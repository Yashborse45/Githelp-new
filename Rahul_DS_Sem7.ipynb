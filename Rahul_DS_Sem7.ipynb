{
  "nbformat": 4,
  "nbformat_minor": 0,
  "metadata": {
    "colab": {
      "provenance": []
    },
    "kernelspec": {
      "name": "python3",
      "display_name": "Python 3"
    },
    "language_info": {
      "name": "python"
    }
  },
  "cells": [
    {
      "cell_type": "code",
      "execution_count": 6,
      "metadata": {
        "colab": {
          "base_uri": "https://localhost:8080/"
        },
        "id": "q4xNa4WhUscK",
        "outputId": "dd903d53-5965-423d-dbcb-9d0a78b63f8f"
      },
      "outputs": [
        {
          "output_type": "stream",
          "name": "stdout",
          "text": [
            ">>> Cleaning up old version at /usr/local/lib/ollama\n",
            ">>> Installing ollama to /usr/local\n",
            ">>> Downloading Linux amd64 bundle\n",
            "######################################################################## 100.0%\n",
            ">>> Adding ollama user to video group...\n",
            ">>> Adding current user to ollama group...\n",
            ">>> Creating ollama systemd service...\n",
            "\u001b[1m\u001b[31mWARNING:\u001b[m systemd is not running\n",
            "\u001b[1m\u001b[31mWARNING:\u001b[m Unable to detect NVIDIA/AMD GPU. Install lspci or lshw to automatically detect and install GPU dependencies.\n",
            ">>> The Ollama API is now available at 127.0.0.1:11434.\n",
            ">>> Install complete. Run \"ollama\" from the command line.\n"
          ]
        }
      ],
      "source": [
        "# ================================================\n",
        "# Cell 1: Install Ollama\n",
        "# ================================================\n",
        "!curl -fsSL https://ollama.com/install.sh | sh"
      ]
    },
    {
      "cell_type": "code",
      "source": [
        "# ================================================\n",
        "# Cell 2: Start the Ollama Server\n",
        "# ================================================\n",
        "# The OLLAMA_HOST setting makes it accessible via ngrok\n",
        "!OLLAMA_HOST=0.0.0.0:11434 nohup ollama serve > server.log 2>&1 &"
      ],
      "metadata": {
        "id": "CHwU4x0Sjy89"
      },
      "execution_count": 7,
      "outputs": []
    },
    {
      "cell_type": "code",
      "source": [
        "# ================================================\n",
        "# Cell 3: Pull a Model\n",
        "# Wait 10-15 seconds for the server to start before running this\n",
        "# ================================================\n",
        "!ollama pull gemma:2b"
      ],
      "metadata": {
        "colab": {
          "base_uri": "https://localhost:8080/"
        },
        "id": "MasmeZ18j10e",
        "outputId": "8522cf2a-6a3a-43a0-fdfd-26d107008c95"
      },
      "execution_count": 8,
      "outputs": [
        {
          "output_type": "stream",
          "name": "stdout",
          "text": [
            "\u001b[?2026h\u001b[?25l\u001b[1G\u001b[?25h\u001b[?2026l\u001b[?2026h\u001b[?25l\u001b[1G\u001b[?25h\u001b[?2026l\u001b[?2026h\u001b[?25l\u001b[1G\u001b[?25h\u001b[?2026l\u001b[?2026h\u001b[?25l\u001b[1G\u001b[?25h\u001b[?2026l\n"
          ]
        }
      ]
    },
    {
      "cell_type": "code",
      "source": [
        "# ================================================\n",
        "# Cell 4: Set up ngrok and Get the Public URL\n",
        "# ================================================\n",
        "# Install pyngrok\n",
        "!pip install pyngrok\n",
        "\n",
        "from pyngrok import ngrok\n",
        "import os\n",
        "\n",
        "# !! IMPORTANT !!\n",
        "# Add your ngrok authtoken here. Get one from https://dashboard.ngrok.com/get-started/your-authtoken\n",
        "# It's free.\n",
        "AUTHTOKEN = \"33am5EqRsW0EARbRgSJRhMibPx0_86rA2zKfJkShJM2bEKBry\"\n",
        "os.environ[\"33am5EqRsW0EARbRgSJRhMibPx0_86rA2zKfJkShJM2bEKBry\"] = AUTHTOKEN\n",
        "ngrok.kill() # Kills any old tunnels\n",
        "\n",
        "# Connect to the Ollama port (11434)\n",
        "public_url = ngrok.connect(11434)\n",
        "print(\"✅ Your Public Ollama URL is:\", public_url)"
      ],
      "metadata": {
        "colab": {
          "base_uri": "https://localhost:8080/"
        },
        "id": "19yQFjgekAKd",
        "outputId": "041c26bd-8881-4bc3-f1e5-429f245a1e0b"
      },
      "execution_count": 9,
      "outputs": [
        {
          "output_type": "stream",
          "name": "stdout",
          "text": [
            "Requirement already satisfied: pyngrok in /usr/local/lib/python3.12/dist-packages (7.4.0)\n",
            "Requirement already satisfied: PyYAML>=5.1 in /usr/local/lib/python3.12/dist-packages (from pyngrok) (6.0.3)\n",
            "✅ Your Public Ollama URL is: NgrokTunnel: \"https://ungossiping-truman-uncontemplable.ngrok-free.dev\" -> \"http://localhost:11434\"\n"
          ]
        }
      ]
    },
    {
      "cell_type": "markdown",
      "source": [],
      "metadata": {
        "id": "Rmm20JLWn9GQ"
      }
    }
  ]
}